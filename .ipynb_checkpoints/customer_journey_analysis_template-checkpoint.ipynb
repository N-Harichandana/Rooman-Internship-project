{
 "cells": [
  {
   "cell_type": "markdown",
   "id": "80438307",
   "metadata": {},
   "source": [
    "# Customer Journey Analysis\n",
    "This notebook performs clustering and dimensionality reduction on customer journey data."
   ]
  },
  {
   "cell_type": "code",
   "execution_count": null,
   "id": "3dae1251",
   "metadata": {},
   "outputs": [],
   "source": [
    "import pandas as pd\n",
    "import numpy as np\n",
    "import matplotlib.pyplot as plt\n",
    "import seaborn as sns\n",
    "from sklearn.preprocessing import StandardScaler\n",
    "from sklearn.decomposition import PCA\n",
    "from sklearn.cluster import KMeans\n",
    "from sklearn.metrics import silhouette_score\n",
    "import warnings\n",
    "warnings.filterwarnings('ignore')"
   ]
  },
  {
   "cell_type": "code",
   "execution_count": null,
   "id": "ebba4c4e",
   "metadata": {},
   "outputs": [],
   "source": [
    "# Load the dataset\n",
    "df = pd.read_csv('ecommerce_customer_data_large.csv')\n",
    "df.head()"
   ]
  },
  {
   "cell_type": "markdown",
   "id": "4294e0f5",
   "metadata": {},
   "source": [
    "## Data Cleaning"
   ]
  },
  {
   "cell_type": "code",
   "execution_count": null,
   "id": "89748d51",
   "metadata": {},
   "outputs": [],
   "source": [
    "# Drop duplicates and check missing values\n",
    "df.drop_duplicates(inplace=True)\n",
    "print(df.isnull().sum())"
   ]
  },
  {
   "cell_type": "markdown",
   "id": "eea7690d",
   "metadata": {},
   "source": [
    "## Feature Engineering"
   ]
  },
  {
   "cell_type": "code",
   "execution_count": null,
   "id": "dbfa30be",
   "metadata": {},
   "outputs": [],
   "source": [
    "# Convert 'Purchase Date' to datetime\n",
    "df['Purchase Date'] = pd.to_datetime(df['Purchase Date'])\n",
    "\n",
    "# Aggregate features per customer\n",
    "features = df.groupby('Customer ID').agg({\n",
    "    'Total Purchase Amount': 'sum',\n",
    "    'Quantity': 'sum',\n",
    "    'Returns': 'sum',\n",
    "    'Product Price': 'mean',\n",
    "    'Purchase Date': ['count', lambda x: (x.max() - x.min()).days]\n",
    "})\n",
    "\n",
    "features.columns = ['Total_Spend', 'Total_Quantity', 'Total_Returns', 'Avg_Product_Price', 'Purchase_Frequency', 'Days_Between_First_Last']\n",
    "features.reset_index(inplace=True)\n",
    "features.head()"
   ]
  },
  {
   "cell_type": "markdown",
   "id": "de6a0ade",
   "metadata": {},
   "source": [
    "## Normalization"
   ]
  },
  {
   "cell_type": "code",
   "execution_count": null,
   "id": "546fcc8e",
   "metadata": {},
   "outputs": [],
   "source": [
    "scaler = StandardScaler()\n",
    "X_scaled = scaler.fit_transform(features.drop('Customer ID', axis=1))"
   ]
  },
  {
   "cell_type": "markdown",
   "id": "829387ca",
   "metadata": {},
   "source": [
    "## PCA - Dimensionality Reduction"
   ]
  },
  {
   "cell_type": "code",
   "execution_count": null,
   "id": "c4dee0cc",
   "metadata": {},
   "outputs": [],
   "source": [
    "pca = PCA(n_components=2)\n",
    "X_pca = pca.fit_transform(X_scaled)\n",
    "\n",
    "# Add PCA columns to features\n",
    "features['PCA1'] = X_pca[:, 0]\n",
    "features['PCA2'] = X_pca[:, 1]\n",
    "features.head()"
   ]
  },
  {
   "cell_type": "markdown",
   "id": "53eb58f4",
   "metadata": {},
   "source": [
    "## K-Means Clustering"
   ]
  },
  {
   "cell_type": "code",
   "execution_count": null,
   "id": "38d49d0c",
   "metadata": {},
   "outputs": [],
   "source": [
    "kmeans = KMeans(n_clusters=3, random_state=42)\n",
    "features['Cluster'] = kmeans.fit_predict(X_pca)"
   ]
  },
  {
   "cell_type": "markdown",
   "id": "22705901",
   "metadata": {},
   "source": [
    "## Cluster Visualization"
   ]
  },
  {
   "cell_type": "code",
   "execution_count": null,
   "id": "b8a4ad0e",
   "metadata": {},
   "outputs": [],
   "source": [
    "plt.figure(figsize=(8, 6))\n",
    "sns.scatterplot(data=features, x='PCA1', y='PCA2', hue='Cluster', palette='Set2')\n",
    "plt.title('Customer Segments')\n",
    "plt.show()"
   ]
  },
  {
   "cell_type": "markdown",
   "id": "f2d23dff",
   "metadata": {},
   "source": [
    "## Interpretation\n",
    "- Analyze the segments based on cluster statistics.\n",
    "- Label segments like 'High-value', 'Churn-risk', etc."
   ]
  }
 ],
 "metadata": {},
 "nbformat": 4,
 "nbformat_minor": 5
}
